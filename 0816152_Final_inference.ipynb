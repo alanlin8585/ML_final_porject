{
  "nbformat": 4,
  "nbformat_minor": 0,
  "metadata": {
    "colab": {
      "provenance": []
    },
    "kernelspec": {
      "name": "python3",
      "display_name": "Python 3"
    },
    "language_info": {
      "name": "python"
    }
  },
  "cells": [
    {
      "cell_type": "code",
      "source": [
        "import numpy as np\n",
        "import pandas as pd\n",
        "import joblib\n",
        "from sklearn import preprocessing"
      ],
      "metadata": {
        "id": "deT0I3-WanV5"
      },
      "execution_count": 1,
      "outputs": []
    },
    {
      "cell_type": "code",
      "source": [
        "# read csv\n",
        "test = pd.read_csv(\"./test.csv\")\n",
        "sample_submission = pd.read_csv(\"./sample_submission.csv\")"
      ],
      "metadata": {
        "id": "Gne3fO_nabQj"
      },
      "execution_count": 2,
      "outputs": []
    },
    {
      "cell_type": "code",
      "source": [
        "test.info()"
      ],
      "metadata": {
        "colab": {
          "base_uri": "https://localhost:8080/"
        },
        "id": "0xU3vaek1sg5",
        "outputId": "aa882b22-fdf7-4ffa-ac90-28138387fd88"
      },
      "execution_count": 3,
      "outputs": [
        {
          "output_type": "stream",
          "name": "stdout",
          "text": [
            "<class 'pandas.core.frame.DataFrame'>\n",
            "RangeIndex: 20775 entries, 0 to 20774\n",
            "Data columns (total 25 columns):\n",
            " #   Column          Non-Null Count  Dtype  \n",
            "---  ------          --------------  -----  \n",
            " 0   id              20775 non-null  int64  \n",
            " 1   product_code    20775 non-null  object \n",
            " 2   loading         20552 non-null  float64\n",
            " 3   attribute_0     20775 non-null  object \n",
            " 4   attribute_1     20775 non-null  object \n",
            " 5   attribute_2     20775 non-null  int64  \n",
            " 6   attribute_3     20775 non-null  int64  \n",
            " 7   measurement_0   20775 non-null  int64  \n",
            " 8   measurement_1   20775 non-null  int64  \n",
            " 9   measurement_2   20775 non-null  int64  \n",
            " 10  measurement_3   20446 non-null  float64\n",
            " 11  measurement_4   20366 non-null  float64\n",
            " 12  measurement_5   20267 non-null  float64\n",
            " 13  measurement_6   20151 non-null  float64\n",
            " 14  measurement_7   20055 non-null  float64\n",
            " 15  measurement_8   19929 non-null  float64\n",
            " 16  measurement_9   19871 non-null  float64\n",
            " 17  measurement_10  19708 non-null  float64\n",
            " 18  measurement_11  19639 non-null  float64\n",
            " 19  measurement_12  19535 non-null  float64\n",
            " 20  measurement_13  19472 non-null  float64\n",
            " 21  measurement_14  19335 non-null  float64\n",
            " 22  measurement_15  19233 non-null  float64\n",
            " 23  measurement_16  19097 non-null  float64\n",
            " 24  measurement_17  19035 non-null  float64\n",
            "dtypes: float64(16), int64(6), object(3)\n",
            "memory usage: 4.0+ MB\n"
          ]
        }
      ]
    },
    {
      "cell_type": "code",
      "source": [
        "# drop not important data\n",
        "not_important_list = [\n",
        "    'id',\n",
        "    'product_code'\n",
        "]\n",
        "\n",
        "for s in not_important_list:\n",
        "  test = test.drop(s, axis=1)"
      ],
      "metadata": {
        "id": "bEuHcp6UbCih"
      },
      "execution_count": 4,
      "outputs": []
    },
    {
      "cell_type": "code",
      "source": [
        "# transform object to int64\n",
        "# https://scikit-learn.org/stable/modules/generated/sklearn.preprocessing.LabelEncoder.html\n",
        "\n",
        "test['attribute_1'] = test['attribute_1'].astype(str).apply(lambda a:str(a[-1:]))\n",
        "\n",
        "le = preprocessing.LabelEncoder()\n",
        "le.fit(['8', '7', '6', '5'])\n",
        "test['attribute_1'] = le.transform(list(test['attribute_1'].values))\n",
        "\n",
        "for i in test.columns[test.dtypes == 'object']:\n",
        "  le = preprocessing.LabelEncoder()\n",
        "  le.fit(test[i])\n",
        "  test[i] = le.transform(list(test[i].values))"
      ],
      "metadata": {
        "id": "pavQunwkbY04"
      },
      "execution_count": 5,
      "outputs": []
    },
    {
      "cell_type": "code",
      "source": [
        "# fill NA value\n",
        "test = test.fillna(test.mean())\n",
        "print(test.isna().sum())"
      ],
      "metadata": {
        "colab": {
          "base_uri": "https://localhost:8080/"
        },
        "id": "yD3DordXcBVY",
        "outputId": "fb497d2b-d670-419a-cae8-670391eb57d1"
      },
      "execution_count": 6,
      "outputs": [
        {
          "output_type": "stream",
          "name": "stdout",
          "text": [
            "loading           0\n",
            "attribute_0       0\n",
            "attribute_1       0\n",
            "attribute_2       0\n",
            "attribute_3       0\n",
            "measurement_0     0\n",
            "measurement_1     0\n",
            "measurement_2     0\n",
            "measurement_3     0\n",
            "measurement_4     0\n",
            "measurement_5     0\n",
            "measurement_6     0\n",
            "measurement_7     0\n",
            "measurement_8     0\n",
            "measurement_9     0\n",
            "measurement_10    0\n",
            "measurement_11    0\n",
            "measurement_12    0\n",
            "measurement_13    0\n",
            "measurement_14    0\n",
            "measurement_15    0\n",
            "measurement_16    0\n",
            "measurement_17    0\n",
            "dtype: int64\n"
          ]
        }
      ]
    },
    {
      "cell_type": "code",
      "execution_count": 7,
      "metadata": {
        "id": "GvRTuZ8NaWXJ"
      },
      "outputs": [],
      "source": [
        "# load model\n",
        "models = joblib.load('weight.joblib')\n",
        "\n",
        "# run prediction\n",
        "test_preds = np.zeros(len(test))\n",
        "for model in models:\n",
        "  test_preds += model.predict_proba(test)[:, 1]"
      ]
    },
    {
      "cell_type": "code",
      "source": [
        "# save submission\n",
        "sub = pd.DataFrame({'id': sample_submission.id, 'failure': test_preds / len(models)})\n",
        "sub.to_csv(\"submission.csv\", index=False)"
      ],
      "metadata": {
        "id": "sZ1uSK0oax5P"
      },
      "execution_count": 8,
      "outputs": []
    }
  ]
}