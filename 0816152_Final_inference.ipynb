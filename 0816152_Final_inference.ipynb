{
  "nbformat": 4,
  "nbformat_minor": 0,
  "metadata": {
    "colab": {
      "provenance": []
    },
    "kernelspec": {
      "name": "python3",
      "display_name": "Python 3"
    },
    "language_info": {
      "name": "python"
    }
  },
  "cells": [
    {
      "cell_type": "code",
      "source": [
        "import numpy as np\n",
        "import pandas as pd\n",
        "import joblib\n",
        "from sklearn import preprocessing"
      ],
      "metadata": {
        "id": "deT0I3-WanV5"
      },
      "execution_count": 1,
      "outputs": []
    },
    {
      "cell_type": "code",
      "source": [
        "test = pd.read_csv(\"./test.csv\")\n",
        "sample_submission = pd.read_csv(\"./sample_submission.csv\")"
      ],
      "metadata": {
        "id": "Gne3fO_nabQj"
      },
      "execution_count": 2,
      "outputs": []
    },
    {
      "cell_type": "code",
      "source": [
        "not_important_list = [\n",
        "    'id',\n",
        "    'product_code'\n",
        "]\n",
        "\n",
        "for s in not_important_list:\n",
        "  test = test.drop(s, axis=1)"
      ],
      "metadata": {
        "id": "bEuHcp6UbCih"
      },
      "execution_count": 3,
      "outputs": []
    },
    {
      "cell_type": "code",
      "source": [
        "# transform object to int64\n",
        "# https://scikit-learn.org/stable/modules/generated/sklearn.preprocessing.LabelEncoder.html\n",
        "\n",
        "test['attribute_1'] = test['attribute_1'].astype(str).apply(lambda a:str(a[-1:]))\n",
        "\n",
        "le = preprocessing.LabelEncoder()\n",
        "le.fit(['8', '7', '6', '5'])\n",
        "test['attribute_1'] = le.transform(list(test['attribute_1'].values))\n",
        "\n",
        "for i in test.columns[test.dtypes == 'object']:\n",
        "  le = preprocessing.LabelEncoder()\n",
        "  le.fit(test[i])\n",
        "  test[i] = le.transform(list(test[i].values))"
      ],
      "metadata": {
        "id": "pavQunwkbY04"
      },
      "execution_count": 4,
      "outputs": []
    },
    {
      "cell_type": "code",
      "source": [
        "test = test.fillna(test.mean())\n",
        "print(test.isna().sum())"
      ],
      "metadata": {
        "colab": {
          "base_uri": "https://localhost:8080/"
        },
        "id": "yD3DordXcBVY",
        "outputId": "e847d125-f5f8-40d9-af94-945616289d5a"
      },
      "execution_count": 5,
      "outputs": [
        {
          "output_type": "stream",
          "name": "stdout",
          "text": [
            "loading           0\n",
            "attribute_0       0\n",
            "attribute_1       0\n",
            "attribute_2       0\n",
            "attribute_3       0\n",
            "measurement_0     0\n",
            "measurement_1     0\n",
            "measurement_2     0\n",
            "measurement_3     0\n",
            "measurement_4     0\n",
            "measurement_5     0\n",
            "measurement_6     0\n",
            "measurement_7     0\n",
            "measurement_8     0\n",
            "measurement_9     0\n",
            "measurement_10    0\n",
            "measurement_11    0\n",
            "measurement_12    0\n",
            "measurement_13    0\n",
            "measurement_14    0\n",
            "measurement_15    0\n",
            "measurement_16    0\n",
            "measurement_17    0\n",
            "dtype: int64\n"
          ]
        }
      ]
    },
    {
      "cell_type": "code",
      "execution_count": 6,
      "metadata": {
        "id": "GvRTuZ8NaWXJ"
      },
      "outputs": [],
      "source": [
        "models = joblib.load('weight.joblib')\n",
        "\n",
        "test_preds = np.zeros(len(test))\n",
        "for model in models:\n",
        "  test_preds += model.predict_proba(test)[:, 1]"
      ]
    },
    {
      "cell_type": "code",
      "source": [
        "sub = pd.DataFrame({'id': sample_submission.id, 'failure': test_preds / len(models)})\n",
        "sub.to_csv(\"submission.csv\", index=False)"
      ],
      "metadata": {
        "id": "sZ1uSK0oax5P"
      },
      "execution_count": 7,
      "outputs": []
    }
  ]
}