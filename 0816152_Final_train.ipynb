{
  "nbformat": 4,
  "nbformat_minor": 0,
  "metadata": {
    "colab": {
      "provenance": []
    },
    "kernelspec": {
      "name": "python3",
      "display_name": "Python 3"
    },
    "language_info": {
      "name": "python"
    }
  },
  "cells": [
    {
      "cell_type": "code",
      "execution_count": 1,
      "metadata": {
        "id": "7df6IxHmH2eM"
      },
      "outputs": [],
      "source": [
        "import numpy as np\n",
        "import pandas as pd\n",
        "from sklearn.linear_model import LogisticRegression\n",
        "from sklearn import preprocessing\n",
        "from sklearn import model_selection\n",
        "from sklearn import metrics\n",
        "import joblib"
      ]
    },
    {
      "cell_type": "code",
      "source": [
        "# read csv\n",
        "train = pd.read_csv(\"./train.csv\")"
      ],
      "metadata": {
        "id": "072OLSrKIIcZ"
      },
      "execution_count": 2,
      "outputs": []
    },
    {
      "cell_type": "code",
      "source": [
        "train.info()"
      ],
      "metadata": {
        "colab": {
          "base_uri": "https://localhost:8080/"
        },
        "id": "AaF8Nsm6Ib15",
        "outputId": "5aad80ca-248c-40f3-b5b3-7d61ac0d0491"
      },
      "execution_count": 3,
      "outputs": [
        {
          "output_type": "stream",
          "name": "stdout",
          "text": [
            "<class 'pandas.core.frame.DataFrame'>\n",
            "RangeIndex: 26570 entries, 0 to 26569\n",
            "Data columns (total 26 columns):\n",
            " #   Column          Non-Null Count  Dtype  \n",
            "---  ------          --------------  -----  \n",
            " 0   id              26570 non-null  int64  \n",
            " 1   product_code    26570 non-null  object \n",
            " 2   loading         26320 non-null  float64\n",
            " 3   attribute_0     26570 non-null  object \n",
            " 4   attribute_1     26570 non-null  object \n",
            " 5   attribute_2     26570 non-null  int64  \n",
            " 6   attribute_3     26570 non-null  int64  \n",
            " 7   measurement_0   26570 non-null  int64  \n",
            " 8   measurement_1   26570 non-null  int64  \n",
            " 9   measurement_2   26570 non-null  int64  \n",
            " 10  measurement_3   26189 non-null  float64\n",
            " 11  measurement_4   26032 non-null  float64\n",
            " 12  measurement_5   25894 non-null  float64\n",
            " 13  measurement_6   25774 non-null  float64\n",
            " 14  measurement_7   25633 non-null  float64\n",
            " 15  measurement_8   25522 non-null  float64\n",
            " 16  measurement_9   25343 non-null  float64\n",
            " 17  measurement_10  25270 non-null  float64\n",
            " 18  measurement_11  25102 non-null  float64\n",
            " 19  measurement_12  24969 non-null  float64\n",
            " 20  measurement_13  24796 non-null  float64\n",
            " 21  measurement_14  24696 non-null  float64\n",
            " 22  measurement_15  24561 non-null  float64\n",
            " 23  measurement_16  24460 non-null  float64\n",
            " 24  measurement_17  24286 non-null  float64\n",
            " 25  failure         26570 non-null  int64  \n",
            "dtypes: float64(16), int64(7), object(3)\n",
            "memory usage: 5.3+ MB\n"
          ]
        }
      ]
    },
    {
      "cell_type": "code",
      "source": [
        "# drop not important data\n",
        "not_important_list = [\n",
        "    'id',\n",
        "    'product_code'\n",
        "]\n",
        "\n",
        "for s in not_important_list:\n",
        "  train = train.drop(s, axis=1)"
      ],
      "metadata": {
        "id": "4oqcvjE3fu8L"
      },
      "execution_count": 4,
      "outputs": []
    },
    {
      "cell_type": "code",
      "source": [
        "# transform object to int64\n",
        "# https://scikit-learn.org/stable/modules/generated/sklearn.preprocessing.LabelEncoder.html\n",
        "\n",
        "train['attribute_1'] = train['attribute_1'].astype(str).apply(lambda a:str(a[-1:]))\n",
        "\n",
        "le = preprocessing.LabelEncoder()\n",
        "le.fit(['8', '7', '6', '5'])\n",
        "train['attribute_1'] = le.transform(list(train['attribute_1'].values))\n",
        "\n",
        "for i in train.columns[train.dtypes == 'object']:\n",
        "  le = preprocessing.LabelEncoder()\n",
        "  le.fit(train[i])\n",
        "  train[i] = le.transform(list(train[i].values))"
      ],
      "metadata": {
        "id": "c_xTzg7bIl04"
      },
      "execution_count": 5,
      "outputs": []
    },
    {
      "cell_type": "code",
      "source": [
        "# fill NA value\n",
        "train = train.fillna(train.mean())\n",
        "print(train.isna().sum())"
      ],
      "metadata": {
        "colab": {
          "base_uri": "https://localhost:8080/"
        },
        "id": "8cyPYvioXGQQ",
        "outputId": "a8fca346-708c-431b-f84d-8450a5d105ff"
      },
      "execution_count": 6,
      "outputs": [
        {
          "output_type": "stream",
          "name": "stdout",
          "text": [
            "loading           0\n",
            "attribute_0       0\n",
            "attribute_1       0\n",
            "attribute_2       0\n",
            "attribute_3       0\n",
            "measurement_0     0\n",
            "measurement_1     0\n",
            "measurement_2     0\n",
            "measurement_3     0\n",
            "measurement_4     0\n",
            "measurement_5     0\n",
            "measurement_6     0\n",
            "measurement_7     0\n",
            "measurement_8     0\n",
            "measurement_9     0\n",
            "measurement_10    0\n",
            "measurement_11    0\n",
            "measurement_12    0\n",
            "measurement_13    0\n",
            "measurement_14    0\n",
            "measurement_15    0\n",
            "measurement_16    0\n",
            "measurement_17    0\n",
            "failure           0\n",
            "dtype: int64\n"
          ]
        }
      ]
    },
    {
      "cell_type": "code",
      "source": [
        "train_x = train\n",
        "train_x = train_x.drop('failure', axis=1)\n",
        "train_y = train['failure']"
      ],
      "metadata": {
        "id": "6C6NvQ_uWmHY"
      },
      "execution_count": 7,
      "outputs": []
    },
    {
      "cell_type": "code",
      "source": [
        "# https://scikit-learn.org/stable/modules/generated/sklearn.linear_model.LogisticRegression.html\n",
        "# https://scikit-learn.org/stable/modules/generated/sklearn.model_selection.KFold.html\n",
        "# https://scikit-learn.org/stable/modules/generated/sklearn.metrics.roc_auc_score.html\n",
        "\n",
        "models = []\n",
        "kf = model_selection.KFold(n_splits=5, random_state=1, shuffle=True)\n",
        "for i, (train_index, test_index) in enumerate(kf.split(train_x, train_y)):\n",
        "  train_x_fold = train_x.iloc[train_index]\n",
        "  train_y_fold = train_y.iloc[train_index]\n",
        "  \n",
        "  model = LogisticRegression(max_iter=1000, C=5e-5)\n",
        "  model.fit(train_x_fold, train_y_fold)\n",
        "\n",
        "  test_x_fold = train_x.iloc[test_index]\n",
        "  test_y_fold = train_y.iloc[test_index]\n",
        "\n",
        "  test_preds_fold = model.predict_proba(test_x_fold)[:, 1]\n",
        "  print('fold ', i, ' roc score:', metrics.roc_auc_score(test_y_fold, test_preds_fold))\n",
        "  \n",
        "  models.append(model)"
      ],
      "metadata": {
        "colab": {
          "base_uri": "https://localhost:8080/"
        },
        "id": "Gkm7rF3iwf63",
        "outputId": "3afbbc72-f6d9-46ac-ce6c-b1a988ec9e66"
      },
      "execution_count": 8,
      "outputs": [
        {
          "output_type": "stream",
          "name": "stdout",
          "text": [
            "fold  0  roc score: 0.585410715556414\n",
            "fold  1  roc score: 0.598728710563126\n",
            "fold  2  roc score: 0.5803310488850125\n",
            "fold  3  roc score: 0.6029514541887344\n",
            "fold  4  roc score: 0.5793542445113544\n"
          ]
        }
      ]
    },
    {
      "cell_type": "code",
      "source": [
        "# dump model\n",
        "joblib.dump(models, 'weight.joblib', compress=1)"
      ],
      "metadata": {
        "colab": {
          "base_uri": "https://localhost:8080/"
        },
        "id": "bgVw6_WWYpfe",
        "outputId": "a9fb7367-8f72-4597-bcdf-f484ca7e01f8"
      },
      "execution_count": 9,
      "outputs": [
        {
          "output_type": "execute_result",
          "data": {
            "text/plain": [
              "['weight.joblib']"
            ]
          },
          "metadata": {},
          "execution_count": 9
        }
      ]
    }
  ]
}